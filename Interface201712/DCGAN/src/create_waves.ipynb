{
 "cells": [
  {
   "cell_type": "code",
   "execution_count": 2,
   "metadata": {
    "collapsed": true
   },
   "outputs": [],
   "source": [
    "import numpy as np\n",
    "import tensorflow as tf\n",
    "%matplotlib inline\n",
    "import matplotlib.pyplot as plt"
   ]
  },
  {
   "cell_type": "code",
   "execution_count": 114,
   "metadata": {},
   "outputs": [
    {
     "name": "stdout",
     "output_type": "stream",
     "text": [
      "[[ 0.16449608  0.63394958  0.93492657]\n",
      " [ 0.07989933  0.32995811  0.55846471]\n",
      " [ 0.82875931  0.99877089  0.88009304]\n",
      " [ 0.07968804  0.63745064  0.96424973]]\n"
     ]
    }
   ],
   "source": [
    "wave_num=4\n",
    "sz=64\n",
    "def createGraph():\n",
    "    rnd_f=0.04+0.16*tf.random_uniform([wave_num,1])\n",
    "    rnd_p=np.pi*tf.random_uniform([wave_num,1])\n",
    "\n",
    "    idx = tf.reshape(tf.constant(np.arange(sz,dtype=np.float32)),[1,sz])\n",
    "    y=idx*rnd_f*np.pi+rnd_p\n",
    "    return tf.sin(y)\n",
    "\n",
    "with tf.Session() as sess:\n",
    "    g=createGraph()\n",
    "    waves=sess.run(g)"
   ]
  },
  {
   "cell_type": "code",
   "execution_count": 109,
   "metadata": {
    "collapsed": true
   },
   "outputs": [],
   "source": [
    "for i in range(len(waves)):\n",
    "    np.save(\"{0:0>8}\".format(i) + \".npy\", waves[i])"
   ]
  },
  {
   "cell_type": "code",
   "execution_count": 3,
   "metadata": {},
   "outputs": [],
   "source": [
    "import glob\n",
    "filepaths = glob.glob(\"../data/input/training/*.npy\")\n",
    "waves = []\n",
    "for path in filepaths:\n",
    "    w = np.load(path)\n",
    "    waves.append(w)"
   ]
  },
  {
   "cell_type": "code",
   "execution_count": null,
   "metadata": {},
   "outputs": [],
   "source": []
  },
  {
   "cell_type": "code",
   "execution_count": null,
   "metadata": {
    "collapsed": true
   },
   "outputs": [],
   "source": []
  }
 ],
 "metadata": {
  "kernelspec": {
   "display_name": "Python 3",
   "language": "python",
   "name": "python3"
  },
  "language_info": {
   "codemirror_mode": {
    "name": "ipython",
    "version": 3
   },
   "file_extension": ".py",
   "mimetype": "text/x-python",
   "name": "python",
   "nbconvert_exporter": "python",
   "pygments_lexer": "ipython3",
   "version": "3.5.2"
  }
 },
 "nbformat": 4,
 "nbformat_minor": 2
}
