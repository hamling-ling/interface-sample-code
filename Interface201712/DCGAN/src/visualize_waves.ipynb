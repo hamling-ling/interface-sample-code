{
 "cells": [
  {
   "cell_type": "code",
   "execution_count": 1,
   "metadata": {},
   "outputs": [],
   "source": [
    "import numpy as np\n",
    "import tensorflow as tf\n",
    "%matplotlib inline\n",
    "import matplotlib.pyplot as plt\n",
    "from PIL import Image"
   ]
  },
  {
   "cell_type": "code",
   "execution_count": 2,
   "metadata": {},
   "outputs": [],
   "source": [
    "import glob\n",
    "filepaths = glob.glob(\"../data/generated_images/*.png\")\n",
    "filepaths.sort()\n",
    "\n",
    "waves = []\n",
    "for path in filepaths:\n",
    "    im = Image.open(path)\n",
    "    im_list = np.asarray(im)\n",
    "    waves.append(im_list)\n",
    "plt.imshow(waves[0])"
   ]
  },
  {
   "cell_type": "code",
   "execution_count": 5,
   "metadata": {},
   "outputs": [],
   "source": [
    "wave_orig=np.load(\"../data/input/evaluation/1000.npy\")\n",
    "wave_tran=np.load(\"../data/input/evaluation/1000_d.npy\")\n",
    "plt.subplot(2,1,1)\n",
    "plt.plot(wave_orig)\n",
    "plt.subplot(2,1,2)\n",
    "plt.plot(wave_tran)"
   ]
  },
  {
   "cell_type": "code",
   "execution_count": null,
   "metadata": {},
   "outputs": [],
   "source": []
  }
 ],
 "metadata": {
  "kernelspec": {
   "display_name": "Python 3",
   "language": "python",
   "name": "python3"
  },
  "language_info": {
   "codemirror_mode": {
    "name": "ipython",
    "version": 3
   },
   "file_extension": ".py",
   "mimetype": "text/x-python",
   "name": "python",
   "nbconvert_exporter": "python",
   "pygments_lexer": "ipython3",
   "version": "3.5.2"
  }
 },
 "nbformat": 4,
 "nbformat_minor": 2
}
